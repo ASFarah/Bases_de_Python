{
 "cells": [
  {
   "cell_type": "markdown",
   "metadata": {},
   "source": [
    "## Fichiers"
   ]
  },
  {
   "cell_type": "code",
   "execution_count": 1,
   "metadata": {},
   "outputs": [
    {
     "data": {
      "text/html": [
       "<div id=\"my_id_menu_nb\">run previous cell, wait for 2 seconds</div>\n",
       "<script>\n",
       "function repeat_indent_string(n){\n",
       "    var a = \"\" ;\n",
       "    for ( ; n > 0 ; --n)\n",
       "        a += \"    \";\n",
       "    return a;\n",
       "}\n",
       "// look up into all sections and builds an automated menu //\n",
       "var update_menu_string = function(begin, lfirst, llast, sformat, send, keep_item, begin_format, end_format) {\n",
       "    var anchors = document.getElementsByClassName(\"section\");\n",
       "    if (anchors.length == 0) {\n",
       "        anchors = document.getElementsByClassName(\"text_cell_render rendered_html\");\n",
       "    }\n",
       "    var i,t;\n",
       "    var text_menu = begin;\n",
       "    var text_memo = \"<pre>\\nlength:\" + anchors.length + \"\\n\";\n",
       "    var ind = \"\";\n",
       "    var memo_level = 1;\n",
       "    var href;\n",
       "    var tags = [];\n",
       "    var main_item = 0;\n",
       "    var format_open = 0;\n",
       "    for (i = 0; i <= llast; i++)\n",
       "        tags.push(\"h\" + i);\n",
       "\n",
       "    for (i = 0; i < anchors.length; i++) {\n",
       "        text_memo += \"**\" + anchors[i].id + \"--\\n\";\n",
       "\n",
       "        var child = null;\n",
       "        for(t = 0; t < tags.length; t++) {\n",
       "            var r = anchors[i].getElementsByTagName(tags[t]);\n",
       "            if (r.length > 0) {\n",
       "child = r[0];\n",
       "break;\n",
       "            }\n",
       "        }\n",
       "        if (child == null) {\n",
       "            text_memo += \"null\\n\";\n",
       "            continue;\n",
       "        }\n",
       "        if (anchors[i].hasAttribute(\"id\")) {\n",
       "            // when converted in RST\n",
       "            href = anchors[i].id;\n",
       "            text_memo += \"#1-\" + href;\n",
       "            // passer à child suivant (le chercher)\n",
       "        }\n",
       "        else if (child.hasAttribute(\"id\")) {\n",
       "            // in a notebook\n",
       "            href = child.id;\n",
       "            text_memo += \"#2-\" + href;\n",
       "        }\n",
       "        else {\n",
       "            text_memo += \"#3-\" + \"*\" + \"\\n\";\n",
       "            continue;\n",
       "        }\n",
       "        var title = child.textContent;\n",
       "        var level = parseInt(child.tagName.substring(1,2));\n",
       "\n",
       "        text_memo += \"--\" + level + \"?\" + lfirst + \"--\" + title + \"\\n\";\n",
       "\n",
       "        if ((level < lfirst) || (level > llast)) {\n",
       "            continue ;\n",
       "        }\n",
       "        if (title.endsWith('¶')) {\n",
       "            title = title.substring(0,title.length-1).replace(\"<\", \"&lt;\")\n",
       "         .replace(\">\", \"&gt;\").replace(\"&\", \"&amp;\");\n",
       "        }\n",
       "        if (title.length == 0) {\n",
       "            continue;\n",
       "        }\n",
       "\n",
       "        while (level < memo_level) {\n",
       "            text_menu += end_format + \"</ul>\\n\";\n",
       "            format_open -= 1;\n",
       "            memo_level -= 1;\n",
       "        }\n",
       "        if (level == lfirst) {\n",
       "            main_item += 1;\n",
       "        }\n",
       "        if (keep_item != -1 && main_item != keep_item + 1) {\n",
       "            // alert(main_item + \" - \" + level + \" - \" + keep_item);\n",
       "            continue;\n",
       "        }\n",
       "        while (level > memo_level) {\n",
       "            text_menu += \"<ul>\\n\";\n",
       "            memo_level += 1;\n",
       "        }\n",
       "        text_menu += repeat_indent_string(level-2);\n",
       "        text_menu += begin_format + sformat.replace(\"__HREF__\", href).replace(\"__TITLE__\", title);\n",
       "        format_open += 1;\n",
       "    }\n",
       "    while (1 < memo_level) {\n",
       "        text_menu += end_format + \"</ul>\\n\";\n",
       "        memo_level -= 1;\n",
       "        format_open -= 1;\n",
       "    }\n",
       "    text_menu += send;\n",
       "    //text_menu += \"\\n\" + text_memo;\n",
       "\n",
       "    while (format_open > 0) {\n",
       "        text_menu += end_format;\n",
       "        format_open -= 1;\n",
       "    }\n",
       "    return text_menu;\n",
       "};\n",
       "var update_menu = function() {\n",
       "    var sbegin = \"\";\n",
       "    var sformat = '<a href=\"#__HREF__\">__TITLE__</a>';\n",
       "    var send = \"\";\n",
       "    var begin_format = '<li>';\n",
       "    var end_format = '</li>';\n",
       "    var keep_item = -1;\n",
       "    var text_menu = update_menu_string(sbegin, 2, 4, sformat, send, keep_item,\n",
       "       begin_format, end_format);\n",
       "    var menu = document.getElementById(\"my_id_menu_nb\");\n",
       "    menu.innerHTML=text_menu;\n",
       "};\n",
       "window.setTimeout(update_menu,2000);\n",
       "            </script>"
      ],
      "text/plain": [
       "<IPython.core.display.HTML object>"
      ]
     },
     "execution_count": 1,
     "metadata": {},
     "output_type": "execute_result"
    }
   ],
   "source": [
    "# Afficher la table des matières\n",
    "\n",
    "from jyquickhelper import add_notebook_menu\n",
    "add_notebook_menu()"
   ]
  },
  {
   "cell_type": "markdown",
   "metadata": {
    "collapsed": true
   },
   "source": [
    "L’écriture et la lecture dans un fichier s’effectuent toujours de la même manière. On ouvre le fichier\n",
    "en mode écriture ou lecture, on écrit ou on lit, puis on ferme le fichier, le laissant disponible pour une\n",
    "utilisation ultérieure. Ce paragraphe ne présente pas l’écriture ou la lecture dans un format binaire\n",
    "car celle-ci est peu utilisée dans ce langage."
   ]
  },
  {
   "cell_type": "markdown",
   "metadata": {},
   "source": [
    "Dans cette partie, on prend l'exemple d'un fichier *SerieTV.txt* ayant le contenu suivant :\n",
    "\n",
    "walking dead\n",
    "\n",
    "Black Mirror \n",
    "\n",
    "Narcos\n",
    "\n",
    "Game of Thrones"
   ]
  },
  {
   "cell_type": "markdown",
   "metadata": {
    "collapsed": true
   },
   "source": [
    "### Lecture dans un fichier texte"
   ]
  },
  {
   "cell_type": "markdown",
   "metadata": {
    "collapsed": true
   },
   "source": [
    "La lecture dans un fichier texte s’effectue selon le même schéma :"
   ]
  },
  {
   "cell_type": "code",
   "execution_count": 2,
   "metadata": {},
   "outputs": [],
   "source": [
    "f = open('files/SerieTV.txt','r') #f = open(' nom_du_fichier.txt ','r')\n",
    "lignes =f.readlines ()\n",
    "f.close ()"
   ]
  },
  {
   "cell_type": "markdown",
   "metadata": {},
   "source": [
    "* Ouverture du fichier : open(nom,mode)\n",
    "    - nom : chaîne de caractère, nom du fichier\n",
    "    - mode : chaîne de caractères, accès au fichier\n",
    "        (’r’ : read, ’w’ : write, ’a’ : append)\n",
    "* Lecture ligne par ligne ; La ligne est affectée à une variable texte\n",
    "* Principales méthodes :\n",
    "    - read() Lit tout le fichier (jusqu’à EOF) et renvoie un str\n",
    "    - read(n) Lit n caractères du fichier à partir de la position courante\n",
    "    - readline() Lit une ligne du fichier jusqu’à nn et renvoie la chaîne\n",
    "    - readlines() Lit toutes les lignes du fichier, renvoie un objet list\n",
    "* Fermeture du fichier"
   ]
  },
  {
   "cell_type": "markdown",
   "metadata": {},
   "source": [
    "#### Méthodes seek() et tell()**"
   ]
  },
  {
   "cell_type": "markdown",
   "metadata": {},
   "source": [
    "Les méthodes **seek()** et **tell()** permettent respectivement de se déplacer au n ième caractère (plus exactement au n ième octet) d’un fichier et d’afficher où en est la lecture du fichier,\n",
    "c’est-à-dire quel caractère (ou octet) est en train d’être lu."
   ]
  },
  {
   "cell_type": "code",
   "execution_count": 3,
   "metadata": {
    "collapsed": true
   },
   "outputs": [],
   "source": [
    "f1 = open('files/SerieTV.txt', 'r')\n",
    "f1.readline()\n",
    "'walking dead\\n'\n",
    "f1.tell()\n",
    "14\n",
    "f1.seek(0)\n",
    "f1.tell()\n",
    "0\n",
    "f1.readline()\n",
    "'walking dead\\n'\n",
    "f1.readline()\n",
    "'Black Mirror \\n'\n",
    "f1.close()"
   ]
  },
  {
   "cell_type": "markdown",
   "metadata": {},
   "source": [
    "On remarque qu'à l’ouverture d’un fichier, le tout premier caractère est indexé par 0 (tout comme le premier élément d’une liste). La méthode seek() permet facilement\n",
    "de remonter au début du fichier lorsque l’on est arrivé à la fin ou lorsqu’on en a lu une partie."
   ]
  },
  {
   "cell_type": "markdown",
   "metadata": {},
   "source": [
    "#### Itérations directement sur le fichier**"
   ]
  },
  {
   "cell_type": "markdown",
   "metadata": {},
   "source": [
    "Il existe également un moyen à la fois simple et élégant\n",
    "de parcourir un fichier."
   ]
  },
  {
   "cell_type": "code",
   "execution_count": 4,
   "metadata": {
    "collapsed": true
   },
   "outputs": [
    {
     "name": "stdout",
     "output_type": "stream",
     "text": [
      "Game of Thrones\n",
      "\n",
      "Breaking Bad\n",
      "\n",
      "The Walking Dead\n",
      "\n",
      "Dexter\n",
      "\n",
      "7Affiche Friends\n",
      "\n",
      "Friends\n",
      "\n",
      "House of Cards\n",
      "\n",
      "Lost, les disparus\n"
     ]
    }
   ],
   "source": [
    "f1 = open('files/SerieTV.txt', 'r')\n",
    "for ligne in f1:\n",
    "    print(ligne)\n",
    "    \n",
    "\n",
    "f1.close()"
   ]
  },
  {
   "cell_type": "markdown",
   "metadata": {},
   "source": [
    "La boucle **for** va demander à Python d’aller lire le fichier ligne par ligne. "
   ]
  },
  {
   "cell_type": "markdown",
   "metadata": {},
   "source": [
    "### Ecriture dans un fichier texte"
   ]
  },
  {
   "cell_type": "markdown",
   "metadata": {},
   "source": [
    "La syntaxe d'écriture dans un fichier est la suivante :"
   ]
  },
  {
   "cell_type": "code",
   "execution_count": 5,
   "metadata": {
    "collapsed": true
   },
   "outputs": [],
   "source": [
    "f = open (\"nom-fichier.txt\", \"w\") # ouverture en mode écriture \"w\" ou écriture ajout \"a\"\n",
    "s = \" Bonjour\"\n",
    "s2 = \"Comment tu vas ?\"\n",
    "f.write ( s ) # écriture de la chaîne de caractères s\n",
    "f.write ( s2 ) # écriture de la chaîne de caractères s2\n",
    "#...\n",
    "f.close () # fermeture"
   ]
  },
  {
   "cell_type": "markdown",
   "metadata": {},
   "source": [
    "Certains codes sont très utiles lors de l’écriture de fichiers texte comme :\n",
    "\n",
    "-- **\\n** : passage à la ligne\n",
    "\n",
    "-- **\\t** : insertion d’une tabulation, indique un passage à la colonne suivante dans le logiciel Excel\n"
   ]
  },
  {
   "cell_type": "markdown",
   "metadata": {
    "collapsed": true
   },
   "source": [
    "### Lecture et ecriture d'un fichier CSV"
   ]
  },
  {
   "cell_type": "code",
   "execution_count": 6,
   "metadata": {
    "collapsed": true
   },
   "outputs": [],
   "source": [
    "import csv\n",
    "def read_csv_file ( filename ):\n",
    "    \"\"\" Lire un fichier CSV et ecrire chaque ligne sous\n",
    "    forme de liste \"\"\"\n",
    "    f = open( filename)\n",
    "    for row in csv.reader (f):\n",
    "        print( row )\n",
    "        f. close()"
   ]
  },
  {
   "cell_type": "code",
   "execution_count": 7,
   "metadata": {
    "collapsed": true
   },
   "outputs": [],
   "source": [
    "import csv\n",
    "def read_csv_file1 ( filename ):\n",
    "    \"\"\" Lire un fichier CSV et ajouter les elements a la liste . \"\"\"\n",
    "    f = open( filename )\n",
    "    data = []\n",
    "    for row in csv.reader (f):\n",
    "        data.append ( row )\n",
    "        print(data)\n",
    "        f.close()"
   ]
  },
  {
   "cell_type": "code",
   "execution_count": 8,
   "metadata": {
    "collapsed": true
   },
   "outputs": [],
   "source": [
    "def write_csv(filename):\n",
    "    import csv\n",
    "    L = [['Date', 'Nom', 'Notes'],\n",
    "         ['2016/1/18', 'Martin Luther King Day', 'Federal Holiday'],\n",
    "         ['2016/2/2','Groundhog Day', 'Observance'],\n",
    "         ['2016/2/8','Chinese New Year', 'Observance'],\n",
    "         ['2016/2/14','Valentine\\'s Day', 'Obervance'],\n",
    "         ['2016/5/8','Mother\\'s Day', 'Observance'],\n",
    "         ['2016/8/19','Statehood Day', 'Hawaii Holiday'],\n",
    "         ['2016/10/28','Nevada Day', 'Nevada Holiday']]\n",
    "    f = open(filename, 'w', newline='')\n",
    "    for item in L:\n",
    "        csv.writer(f).writerow(item)\n",
    "    f.close()"
   ]
  },
  {
   "cell_type": "markdown",
   "metadata": {},
   "source": [
    "### Méthode optimisée d’ouverture et de fermeture de fichier"
   ]
  },
  {
   "cell_type": "markdown",
   "metadata": {},
   "source": [
    "Depuis la version 2.5, Python introduit le mot-clé **with** qui permet d’ouvrir et fermer un\n",
    "fichier de manière commode. Si pour une raison ou une autre l’ouverture conduit à une erreur (problème de droits, etc), l’utilisation de **with** garantit la bonne fermeture du fichier (ce\n",
    "qui n’est pas le cas avec l’utilisation de la méthode open() invoquée telle quelle). Voici un\n",
    "exemple :"
   ]
  },
  {
   "cell_type": "code",
   "execution_count": 9,
   "metadata": {
    "collapsed": true
   },
   "outputs": [
    {
     "name": "stdout",
     "output_type": "stream",
     "text": [
      "Game of Thrones\n",
      "\n",
      "Breaking Bad\n",
      "\n",
      "The Walking Dead\n",
      "\n",
      "Dexter\n",
      "\n",
      "7Affiche Friends\n",
      "\n",
      "Friends\n",
      "\n",
      "House of Cards\n",
      "\n",
      "Lost, les disparus\n"
     ]
    }
   ],
   "source": [
    "with open('files/SerieTV.txt', 'r') as f1:\n",
    "    for ligne in f1:\n",
    "        print(ligne)"
   ]
  },
  {
   "cell_type": "markdown",
   "metadata": {},
   "source": [
    "Vous remarquez que **with** introduit un bloc d’indentation. C’est à l’intérieur de ce bloc que\n",
    "nous effectuons toutes les opérations sur le fichier. Une fois sorti, Python fermera automatiquement le fichier. Vous n’avez donc plus besoin d’invoquer la fonction close()."
   ]
  }
 ],
 "metadata": {
  "anaconda-cloud": {},
  "interpreter": {
   "hash": "40d3a090f54c6569ab1632332b64b2c03c39dcf918b08424e98f38b5ae0af88f"
  },
  "kernelspec": {
   "display_name": "Python [Root]",
   "language": "python",
   "name": "python3"
  },
  "language_info": {
   "codemirror_mode": {
    "name": "ipython",
    "version": 3
   },
   "file_extension": ".py",
   "mimetype": "text/x-python",
   "name": "python",
   "nbconvert_exporter": "python",
   "pygments_lexer": "ipython3",
   "version": "3.8.8"
  }
 },
 "nbformat": 4,
 "nbformat_minor": 0
}