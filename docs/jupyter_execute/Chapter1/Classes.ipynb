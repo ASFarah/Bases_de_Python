{
 "cells": [
  {
   "cell_type": "markdown",
   "metadata": {
    "collapsed": true
   },
   "source": [
    "## Classes\n"
   ]
  },
  {
   "cell_type": "markdown",
   "metadata": {
    "collapsed": true
   },
   "source": [
    "Les classes sont les éléments centraux de la programmation orientée objet. Une classe est une structure qui sert à représenter un objet et les opérations qui peuvent être effectuées sur l'objet.\n",
    "\n",
    "En Python, une classe peut contenir des *attributs* (variables) et des *méthodes* (fonctions).\n",
    "\n",
    "Une classe est définie de manière analogue aux fonctions, mais en utilisant le mot-clé `class`. La définition d'une classe contient généralement un certain nombre de méthodes de classe (des fonctions dans la classe).\n",
    "\n",
    "* Le premier argument d'un méthode doit être `self`: argument obligatoire. Cet objet self est une auto-référence.\n",
    "\n",
    "* Certains noms de méthode de classe ont un sens particulier, par exemple:\n",
    "\n",
    "     * `__init__`: nom de la méthode invoquée à de la création de l'objet.\n",
    "     * `__str__`: méthode invoquée lorsqu'une représentation de la classe sous forme de chaîne de caractères est demandée, par exemple quand la classe est passée à la fonction print\n",
    "     * Voir http://docs.python.org/2/reference/datamodel.html#special-method-names pour les autres noms de méthode"
   ]
  },
  {
   "cell_type": "code",
   "execution_count": 1,
   "metadata": {
    "collapsed": true
   },
   "outputs": [],
   "source": [
    "class Point:\n",
    "    \"\"\"\n",
    "    Classe simple pour représenter un point dans un système de coordonnées cartésiennes.\n",
    "    \"\"\"\n",
    "    \n",
    "    def __init__(self, x, y):\n",
    "        \"\"\"\n",
    "        Créer un nouveau point à x, y.\n",
    "        \"\"\"\n",
    "        self.x = x\n",
    "        self.y = y\n",
    "        \n",
    "    def translate(self, dx, dy):\n",
    "        \"\"\"\n",
    "        Calcul de la déviation de direction du point par dx et dy\n",
    "        \"\"\"\n",
    "        self.x += dx\n",
    "        self.y += dy\n",
    "        \n",
    "    def __str__(self):\n",
    "        return(\"Point de coordonnées [%f, %f]\" % (self.x, self.y))"
   ]
  },
  {
   "cell_type": "markdown",
   "metadata": {
    "collapsed": true
   },
   "source": [
    "Pour créer une nouvelle instance d'une classe:"
   ]
  },
  {
   "cell_type": "code",
   "execution_count": 2,
   "metadata": {
    "collapsed": false
   },
   "outputs": [
    {
     "name": "stdout",
     "output_type": "stream",
     "text": [
      "Point de coordonnées [0.000000, 0.000000]\n"
     ]
    }
   ],
   "source": [
    "p1 = Point (0, 0) # ceci va appeler la méthode __init__ dans la classe Point\n",
    "\n",
    "print (p1) # ceci va appeler la méthode __str__"
   ]
  },
  {
   "cell_type": "markdown",
   "metadata": {
    "collapsed": true
   },
   "source": [
    "Pour faire appel à une méthode de classe dans l'instance de classe p :"
   ]
  },
  {
   "cell_type": "code",
   "execution_count": 3,
   "metadata": {
    "collapsed": false
   },
   "outputs": [
    {
     "name": "stdout",
     "output_type": "stream",
     "text": [
      "Point de coordonnées [0.250000, 1.500000]\n",
      "Point de coordonnées [1.000000, 1.000000]\n"
     ]
    }
   ],
   "source": [
    "p2 = Point(1, 1)\n",
    "\n",
    "p1.translate(0.25, 1.5)\n",
    "\n",
    "print(p1)\n",
    "print(p2)"
   ]
  },
  {
   "cell_type": "markdown",
   "metadata": {},
   "source": [
    "### Exceptions"
   ]
  },
  {
   "cell_type": "markdown",
   "metadata": {},
   "source": [
    "* Dans Python les erreurs sont gérées à travers des \"Exceptions\"\n",
    "* Une erreur provoque une Exception qui interrompt l'exécution normale du programme\n",
    "* L'exécution peut éventuellement reprendre à l'intérieur d'un bloc de code try - except"
   ]
  },
  {
   "cell_type": "markdown",
   "metadata": {},
   "source": [
    "* Une utilisation typique: arrêter l'exécution d'une fonction en cas d'erreur:"
   ]
  },
  {
   "cell_type": "markdown",
   "metadata": {},
   "source": [
    "def my_function(arguments) :\n",
    "\n",
    "if not verify(arguments):\n",
    "    raise Expection(\"Invalid arguments\")\n",
    "    \n",
    "et on continue"
   ]
  },
  {
   "cell_type": "markdown",
   "metadata": {},
   "source": [
    "On utilise try et  expect pour maîtriser les erreurs :\n",
    "try:\n",
    "    # normal code goes here\n",
    "except:\n",
    "    # code for error handling goes here\n",
    "    # this code is not executed unless the code\n",
    "    # above generated an error"
   ]
  },
  {
   "cell_type": "markdown",
   "metadata": {},
   "source": [
    "Par exemple :"
   ]
  },
  {
   "cell_type": "code",
   "execution_count": 4,
   "metadata": {
    "collapsed": false
   },
   "outputs": [
    {
     "name": "stdout",
     "output_type": "stream",
     "text": [
      "test_var\n",
      "Caught an expection\n"
     ]
    }
   ],
   "source": [
    "try:\n",
    "    print(\"test_var\")\n",
    "    # genere une erreur: la variable test n'est pas définie\n",
    "    print(test_var)\n",
    "except:\n",
    "    print(\"Caught an expection\")"
   ]
  },
  {
   "cell_type": "markdown",
   "metadata": {},
   "source": [
    "Pour obtenir de l'information sur l'erreur : accéder à l'instance de la classe Exception concernée:\n",
    "\n",
    "`except Exception as e :`"
   ]
  },
  {
   "cell_type": "code",
   "execution_count": 5,
   "metadata": {
    "collapsed": false
   },
   "outputs": [
    {
     "name": "stdout",
     "output_type": "stream",
     "text": [
      "test\n",
      "Caught an expection: name 'test' is not defined\n"
     ]
    }
   ],
   "source": [
    "try:\n",
    "    print(\"test\")\n",
    "    # generate an error: the variable test is not defined\n",
    "    print(test)\n",
    "except Exception as e:\n",
    "    print(\"Caught an expection:\", e)"
   ]
  }
 ],
 "metadata": {
  "anaconda-cloud": {},
  "interpreter": {
   "hash": "40d3a090f54c6569ab1632332b64b2c03c39dcf918b08424e98f38b5ae0af88f"
  },
  "kernelspec": {
   "display_name": "Python [Root]",
   "language": "python",
   "name": "python3"
  },
  "language_info": {
   "codemirror_mode": {
    "name": "ipython",
    "version": 3
   },
   "file_extension": ".py",
   "mimetype": "text/x-python",
   "name": "python",
   "nbconvert_exporter": "python",
   "pygments_lexer": "ipython3",
   "version": "3.8.8"
  }
 },
 "nbformat": 4,
 "nbformat_minor": 0
}