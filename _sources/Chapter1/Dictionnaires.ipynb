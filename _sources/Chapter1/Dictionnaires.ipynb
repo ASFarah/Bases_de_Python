{
 "cells": [
  {
   "cell_type": "markdown",
   "metadata": {
    "collapsed": true
   },
   "source": [
    "## Les dictionnaires"
   ]
  },
  {
   "cell_type": "markdown",
   "metadata": {},
   "source": [
    "Les dictionnaires sont également des listes, sauf que chaque élément est une paire clé-valeur.\n",
    "    - La syntaxe des dictionnaires est {key1: value1, ...}:\n",
    "    - chaque clé est unique\n",
    "    - mutables"
   ]
  },
  {
   "cell_type": "code",
   "execution_count": 30,
   "metadata": {
    "collapsed": false
   },
   "outputs": [
    {
     "name": "stdout",
     "output_type": "stream",
     "text": [
      "<class 'dict'>\n",
      "{'Jan ': 31, 'Fev ': 28, 'Mar ': 31}\n"
     ]
    }
   ],
   "source": [
    "mois ={ 'Jan ':31 , 'Fev ':28 , 'Mar ':31}\n",
    "print(type(mois))\n",
    "print(mois)"
   ]
  },
  {
   "cell_type": "code",
   "execution_count": 31,
   "metadata": {
    "collapsed": false
   },
   "outputs": [
    {
     "data": {
      "text/plain": [
       "dict_keys(['Jan ', 'Fev ', 'Mar '])"
      ]
     },
     "execution_count": 31,
     "metadata": {},
     "output_type": "execute_result"
    }
   ],
   "source": [
    "mois.keys()"
   ]
  },
  {
   "cell_type": "code",
   "execution_count": 32,
   "metadata": {
    "collapsed": false
   },
   "outputs": [
    {
     "data": {
      "text/plain": [
       "dict_values([31, 28, 31])"
      ]
     },
     "execution_count": 32,
     "metadata": {},
     "output_type": "execute_result"
    }
   ],
   "source": [
    "mois.values()"
   ]
  },
  {
   "cell_type": "code",
   "execution_count": 33,
   "metadata": {
    "collapsed": false
   },
   "outputs": [
    {
     "data": {
      "text/plain": [
       "dict_items([('Jan ', 31), ('Fev ', 28), ('Mar ', 31)])"
      ]
     },
     "execution_count": 33,
     "metadata": {},
     "output_type": "execute_result"
    }
   ],
   "source": [
    "mois.items()"
   ]
  },
  {
   "cell_type": "markdown",
   "metadata": {},
   "source": [
    "Suppression d'une clé :"
   ]
  },
  {
   "cell_type": "code",
   "execution_count": 34,
   "metadata": {
    "collapsed": false
   },
   "outputs": [
    {
     "name": "stdout",
     "output_type": "stream",
     "text": [
      "{'Jan ': 31, 'Fev ': 28}\n"
     ]
    }
   ],
   "source": [
    "del mois['Mar ']  # supprimer une clé \n",
    "print(mois)"
   ]
  },
  {
   "cell_type": "markdown",
   "metadata": {},
   "source": [
    "Test de présence d'une clé"
   ]
  },
  {
   "cell_type": "code",
   "execution_count": 35,
   "metadata": {
    "collapsed": false
   },
   "outputs": [
    {
     "data": {
      "text/plain": [
       "True"
      ]
     },
     "execution_count": 35,
     "metadata": {},
     "output_type": "execute_result"
    }
   ],
   "source": [
    "\"Fev \" in mois # Test de présence d’une clé"
   ]
  },
  {
   "cell_type": "markdown",
   "metadata": {},
   "source": [
    "### Fonctions pratiques"
   ]
  },
  {
   "cell_type": "markdown",
   "metadata": {},
   "source": [
    "#### Update : mise à jour d'un dictionnaire avec les éléments d'un autre dictionnaire\n",
    "\n",
    "Si vous souhaitez mettre à jour un dictionnaire avec des éléments provenant d'un autre dictionnaire ou d'un itérable de paires clé/valeur, utilisez la méthode `update`."
   ]
  },
  {
   "cell_type": "code",
   "execution_count": 36,
   "metadata": {},
   "outputs": [],
   "source": [
    "Notes = {\"Pierre\": 6}\n",
    "Nouvelle_notes = {\"Marie\": 16, 'Jean': 10}\n",
    "Notes.update(Nouvelle_notes)"
   ]
  },
  {
   "cell_type": "code",
   "execution_count": 37,
   "metadata": {},
   "outputs": [],
   "source": [
    "Notes.update(Julie=13, Michel=9)"
   ]
  },
  {
   "cell_type": "code",
   "execution_count": 38,
   "metadata": {},
   "outputs": [
    {
     "data": {
      "text/plain": [
       "{'Pierre': 6, 'Marie': 16, 'Jean': 10, 'Julie': 13, 'Michel': 9}"
      ]
     },
     "execution_count": 38,
     "metadata": {},
     "output_type": "execute_result"
    }
   ],
   "source": [
    "Notes"
   ]
  },
  {
   "cell_type": "markdown",
   "metadata": {},
   "source": [
    "#### Paramètre clé dans Max() : Trouver la clé ayant la plus grande valeur\n",
    "\n",
    "Appliquer `max` sur un dictionnaire Python vous donnera la clé la plus grande, et non la clé avec la plus grande valeur. Si vous voulez trouver la clé ayant la plus grande valeur, spécifiez-la en utilisant le paramètre `key` dans la méthode `max`."
   ]
  },
  {
   "cell_type": "code",
   "execution_count": 39,
   "metadata": {},
   "outputs": [
    {
     "data": {
      "text/plain": [
       "'Pierre'"
      ]
     },
     "execution_count": 39,
     "metadata": {},
     "output_type": "execute_result"
    }
   ],
   "source": [
    "Notes = {'Pierre': 6, 'Marie': 16, 'Jean': 10, 'Julie': 13, 'Michel': 9}\n",
    "\n",
    "max(Notes)"
   ]
  },
  {
   "cell_type": "code",
   "execution_count": 40,
   "metadata": {},
   "outputs": [
    {
     "data": {
      "text/plain": [
       "'Marie'"
      ]
     },
     "execution_count": 40,
     "metadata": {},
     "output_type": "execute_result"
    }
   ],
   "source": [
    "max_val = max(Notes, key=lambda k: Notes[k])\n",
    "max_val"
   ]
  },
  {
   "cell_type": "markdown",
   "metadata": {},
   "source": [
    "#### dict.get : Obtenir la valeur par défaut d'un dictionnaire si une clé n'existe pas\n",
    "\n",
    "Si vous voulez obtenir la valeur par défaut lorsqu'une clé n'existe pas dans un dictionnaire, utilisez `dict.get`. Dans le code ci-dessous, puisqu'il n'y a pas de clé `Cours3`, la valeur par défaut `Anglais` est retournée."
   ]
  },
  {
   "cell_type": "code",
   "execution_count": 41,
   "metadata": {},
   "outputs": [],
   "source": [
    "Cours = {'Cours1': 'Français', 'Cours2': 'Mathématique'}\n"
   ]
  },
  {
   "cell_type": "code",
   "execution_count": 42,
   "metadata": {},
   "outputs": [
    {
     "data": {
      "text/plain": [
       "'Français'"
      ]
     },
     "execution_count": 42,
     "metadata": {},
     "output_type": "execute_result"
    }
   ],
   "source": [
    "Cours.get('Cours1', 'Anglais')\n"
   ]
  },
  {
   "cell_type": "code",
   "execution_count": 43,
   "metadata": {},
   "outputs": [
    {
     "data": {
      "text/plain": [
       "'Anglais'"
      ]
     },
     "execution_count": 43,
     "metadata": {},
     "output_type": "execute_result"
    }
   ],
   "source": [
    "Cours.get('Cours3', 'Anglais')"
   ]
  },
  {
   "cell_type": "markdown",
   "metadata": {},
   "source": [
    "#### dict.fromkeys: Obtenir un dictionnaire à partir d'une liste et d'une valeur\n",
    "\n",
    "Si vous voulez obtenir un dictionnaire à partir d'une liste et d'une valeur, essayez `dict.fromkeys`."
   ]
  },
  {
   "cell_type": "code",
   "execution_count": 44,
   "metadata": {},
   "outputs": [],
   "source": [
    "Informatique = ['Clavier', 'Ecran', 'Souris', 'Disque dur']\n",
    "Courses = ['Pâtes', 'Jus', 'Salade']\n",
    "Lieu1 = 'Fnac'\n",
    "Lieu2 = 'Auchan'"
   ]
  },
  {
   "cell_type": "markdown",
   "metadata": {},
   "source": [
    "On peut utiliser `dict.fromkeys` pour créer un dictionnaire des lieux pour les produits Informatique :"
   ]
  },
  {
   "cell_type": "code",
   "execution_count": 45,
   "metadata": {},
   "outputs": [
    {
     "data": {
      "text/plain": [
       "{'Clavier': 'Fnac', 'Ecran': 'Fnac', 'Souris': 'Fnac', 'Disque dur': 'Fnac'}"
      ]
     },
     "execution_count": 45,
     "metadata": {},
     "output_type": "execute_result"
    }
   ],
   "source": [
    "Informatique_lieu = dict.fromkeys(Informatique, Lieu1)\n",
    "Informatique_lieu"
   ]
  },
  {
   "cell_type": "markdown",
   "metadata": {},
   "source": [
    "dictionnaire pour lieu des courses :"
   ]
  },
  {
   "cell_type": "code",
   "execution_count": 46,
   "metadata": {},
   "outputs": [
    {
     "data": {
      "text/plain": [
       "{'Pâtes': 'Auchan', 'Jus': 'Auchan', 'Salade': 'Auchan'}"
      ]
     },
     "execution_count": 46,
     "metadata": {},
     "output_type": "execute_result"
    }
   ],
   "source": [
    "Courses_lieu = dict.fromkeys(Courses, Lieu2)\n",
    "Courses_lieu"
   ]
  },
  {
   "cell_type": "markdown",
   "metadata": {},
   "source": [
    "Ces 2 résultats peuvent être combinés dans un dictionnaire commun :"
   ]
  },
  {
   "cell_type": "code",
   "execution_count": 47,
   "metadata": {},
   "outputs": [
    {
     "data": {
      "text/plain": [
       "{'Clavier': 'Fnac',\n",
       " 'Ecran': 'Fnac',\n",
       " 'Souris': 'Fnac',\n",
       " 'Disque dur': 'Fnac',\n",
       " 'Pâtes': 'Auchan',\n",
       " 'Jus': 'Auchan',\n",
       " 'Salade': 'Auchan'}"
      ]
     },
     "execution_count": 47,
     "metadata": {},
     "output_type": "execute_result"
    }
   ],
   "source": [
    "Lieux = {**Informatique_lieu, **Courses_lieu}\n",
    "Lieux"
   ]
  }
 ],
 "metadata": {
  "anaconda-cloud": {},
  "interpreter": {
   "hash": "40d3a090f54c6569ab1632332b64b2c03c39dcf918b08424e98f38b5ae0af88f"
  },
  "kernelspec": {
   "display_name": "Python [Root]",
   "language": "python",
   "name": "python3"
  },
  "language_info": {
   "codemirror_mode": {
    "name": "ipython",
    "version": 3
   },
   "file_extension": ".py",
   "mimetype": "text/x-python",
   "name": "python",
   "nbconvert_exporter": "python",
   "pygments_lexer": "ipython3",
   "version": "3.8.8"
  }
 },
 "nbformat": 4,
 "nbformat_minor": 0
}
